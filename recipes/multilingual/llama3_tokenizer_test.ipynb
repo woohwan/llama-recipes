{
 "cells": [
  {
   "cell_type": "code",
   "execution_count": 4,
   "metadata": {},
   "outputs": [
    {
     "name": "stderr",
     "output_type": "stream",
     "text": [
      "/home/whpark/miniconda3/envs/dev/lib/python3.11/site-packages/huggingface_hub/file_download.py:1132: FutureWarning: `resume_download` is deprecated and will be removed in version 1.0.0. Downloads always resume when possible. If you want to force a new download, use `force_download=True`.\n",
      "  warnings.warn(\n",
      "Special tokens have been added in the vocabulary, make sure the associated word embeddings are fine-tuned or trained.\n"
     ]
    },
    {
     "name": "stdout",
     "output_type": "stream",
     "text": [
      "before:  128256\n",
      "after:  128257\n"
     ]
    }
   ],
   "source": [
    "# https://github.com/meta-llama/llama3/issues/67\n",
    "\n",
    "from transformers import AutoTokenizer\n",
    "\n",
    "base_model = \"meta-llama/Meta-Llama-3-8B-Instruct\"\n",
    "tokenizer = AutoTokenizer.from_pretrained(base_model)\n",
    "\n",
    "print(\"before: \", len(tokenizer))\n",
    "\n",
    "all_vocab = [\"ko_tokenizer/tokenizer.model\"]\n",
    "\n",
    "import sentencepiece as spm\n",
    "KO_sp_model = spm.SentencePieceProcessor()\n",
    "for v in all_vocab:\n",
    "    KO_sp_model.Load(v)\n",
    "    vocab = [ str(KO_sp_model.decode(i) for i in range(len(KO_sp_model)))]\n",
    "    tokenizer.add_tokens(vocab)\n",
    "\n",
    "print(\"after: \", len(tokenizer))"
   ]
  },
  {
   "cell_type": "code",
   "execution_count": null,
   "metadata": {},
   "outputs": [],
   "source": []
  }
 ],
 "metadata": {
  "kernelspec": {
   "display_name": "dev",
   "language": "python",
   "name": "python3"
  },
  "language_info": {
   "codemirror_mode": {
    "name": "ipython",
    "version": 3
   },
   "file_extension": ".py",
   "mimetype": "text/x-python",
   "name": "python",
   "nbconvert_exporter": "python",
   "pygments_lexer": "ipython3",
   "version": "3.11.9"
  }
 },
 "nbformat": 4,
 "nbformat_minor": 2
}
